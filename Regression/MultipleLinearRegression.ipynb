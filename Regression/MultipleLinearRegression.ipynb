{
  "metadata": {
    "language_info": {
      "codemirror_mode": {
        "name": "python",
        "version": 3
      },
      "file_extension": ".py",
      "mimetype": "text/x-python",
      "name": "python",
      "nbconvert_exporter": "python",
      "pygments_lexer": "ipython3",
      "version": "3.8"
    },
    "kernelspec": {
      "name": "python",
      "display_name": "Python (Pyodide)",
      "language": "python"
    }
  },
  "nbformat_minor": 4,
  "nbformat": 4,
  "cells": [
    {
      "cell_type": "code",
      "source": "import numpy as np \nimport pandas as pd  \nimport matplotlib.pyplot as plt  \n\nimport os\nimport piplite\nawait piplite.install('seaborn')\nimport matplotlib.pyplot as plt\nimport seaborn as sns\n%matplotlib inline",
      "metadata": {
        "trusted": true
      },
      "execution_count": null,
      "outputs": []
    },
    {
      "cell_type": "code",
      "source": "data1 = pd.read_csv(\"cancer_reg.csv\")\nprint(data1)",
      "metadata": {
        "trusted": true
      },
      "execution_count": null,
      "outputs": []
    },
    {
      "cell_type": "code",
      "source": "data2 = pd.read_csv(\"avg-household-size.csv\")\nprint(data2)",
      "metadata": {
        "trusted": true
      },
      "execution_count": null,
      "outputs": []
    },
    {
      "cell_type": "code",
      "source": "data_merged = data1.merge(data2, how = 'outer')\ndataset = data_merged\ndataset",
      "metadata": {
        "trusted": true
      },
      "execution_count": null,
      "outputs": []
    },
    {
      "cell_type": "code",
      "source": "dataset = dataset.drop('pctsomecol18_24', axis=1)\ndataset = dataset.drop('binnedinc', axis = 1)\ndataset=dataset.drop('geography', axis=1)\n",
      "metadata": {
        "trusted": true
      },
      "execution_count": null,
      "outputs": []
    },
    {
      "cell_type": "code",
      "source": "df=dataset.astype('float32')\ndf.fillna(df.mean(), inplace = True)",
      "metadata": {
        "trusted": true
      },
      "execution_count": null,
      "outputs": []
    },
    {
      "cell_type": "code",
      "source": "from sklearn.preprocessing import MinMaxScaler\nfrom pandas import DataFrame\nscaler = MinMaxScaler()\nscaler.fit(df)\ndf[:] = scaler.fit_transform(df[:])\ndf_scaled = pd.DataFrame(df[:], columns = df.columns[:])\ndf_scaled\n                           ",
      "metadata": {
        "trusted": true
      },
      "execution_count": null,
      "outputs": []
    },
    {
      "cell_type": "code",
      "source": "from sklearn.model_selection import train_test_split \nX = df_scaled.drop(columns=['target_deathrate'])\ny = df_scaled['target_deathrate']\nx_train, x_test, y_train, y_test = train_test_split(X, y, test_size=0.25, random_state=42)\n\n\nfrom sklearn.linear_model import LinearRegression\n\nmultiple_linear_reg = LinearRegression(fit_intercept=False)\nmultiple_linear_reg.fit(x_train, y_train)",
      "metadata": {
        "trusted": true
      },
      "execution_count": null,
      "outputs": []
    },
    {
      "cell_type": "code",
      "source": "from sklearn.model_selection import cross_val_predict  \nfrom sklearn.metrics import r2_score  \nfrom sklearn.metrics import mean_squared_error  \nfrom math import sqrt \n\ny_pred_MLR_train = multiple_linear_reg.predict(x_train)\ny_pred_MLR_test = multiple_linear_reg.predict(x_test)\n\naccuracy_MLR_train = r2_score(y_train, y_pred_MLR_train)\nprint(\"Training R2 for Multiple Linear Regression Model: \", accuracy_MLR_train)\n\naccuracy_MLR_test = r2_score(y_test, y_pred_MLR_test)\nprint(\"Testing R2 for Multiple Linear Regression Model: \", accuracy_MLR_test)\n\nRMSE_MLR_train = sqrt(mean_squared_error(y_train, y_pred_MLR_train))\nprint(\"RMSE for Training Data: \", RMSE_MLR_train)\n\nRMSE_MLR_test = sqrt(mean_squared_error(y_test, y_pred_MLR_test))\nprint(\"RMSE for Testing Data: \", RMSE_MLR_test)",
      "metadata": {
        "trusted": true
      },
      "execution_count": null,
      "outputs": []
    },
    {
      "cell_type": "code",
      "source": "true_val = y_train\npred_val = y_pred_MLR_train",
      "metadata": {
        "trusted": true
      },
      "execution_count": null,
      "outputs": []
    },
    {
      "cell_type": "code",
      "source": "plt.figure(figsize=(8,8))\nplt.scatter(true_val, pred_val, c ='crimson')\nplt.yscale('log')\nplt.xscale('log')\n\np1 = max(max(pred_val), max(true_val))\np2 = min(min(pred_val), min(true_val))\nplt.plot([p1,p2], [p1,p2], 'b-')\nplt.xlabel('True Values', fontsize=15)\nplt.ylabel('Predicted Values', fontsize=15)\nplt.title(\"MLR: True Values vs Predicted Values\")\nplt.axis('equal')\nplt.show()",
      "metadata": {
        "trusted": true
      },
      "execution_count": null,
      "outputs": []
    }
  ]
}