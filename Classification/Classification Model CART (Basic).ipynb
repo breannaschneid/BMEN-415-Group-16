{
 "cells": [
  {
   "cell_type": "code",
   "execution_count": 53,
   "id": "2b40b0a5",
   "metadata": {},
   "outputs": [],
   "source": [
    "import pandas as pd\n",
    "from sklearn.tree import DecisionTreeClassifier \n",
    "from sklearn.model_selection import train_test_split\n",
    "from sklearn.metrics import accuracy_score\n",
    "from sklearn.metrics import confusion_matrix\n",
    "from sklearn.preprocessing import MinMaxScaler\n",
    "import matplotlib.pyplot as plt\n",
    "import seaborn as sns"
   ]
  },
  {
   "cell_type": "code",
   "execution_count": 54,
   "id": "59b12c5d",
   "metadata": {},
   "outputs": [],
   "source": [
    "dataset=pd.read_csv('data.csv')"
   ]
  },
  {
   "cell_type": "code",
   "execution_count": 55,
   "id": "26559d1c",
   "metadata": {},
   "outputs": [],
   "source": [
    "dataset.drop(['id'], axis='columns', inplace=True)\n",
    "dataset.drop(['perimeter_mean', 'perimeter_se', 'perimeter_worst'], axis='columns', inplace=True)\n",
    "dataset.drop(['Radius_mean', 'radius_se', 'radius_worst'], axis='columns', inplace=True)\n",
    "dataset.drop(['symmetry_se','texture_se','smoothness_se','fractal_dimension_se'], axis='columns', inplace=True)\n",
    "dataset.drop('fractal_dimension_mean',axis='columns', inplace=True)\n",
    "dataset.drop('Texture_mean',axis='columns', inplace=True)\n",
    "dataset.drop(['area_mean','compactness_worst'],axis='columns', inplace=True)"
   ]
  },
  {
   "cell_type": "code",
   "execution_count": 56,
   "id": "8093a81c",
   "metadata": {},
   "outputs": [],
   "source": [
    "dataset['diagnosis'] = dataset['diagnosis'].map({'M': 1, 'B': 0})"
   ]
  },
  {
   "cell_type": "code",
   "execution_count": 57,
   "id": "e76c939e",
   "metadata": {},
   "outputs": [],
   "source": [
    "scaler = MinMaxScaler()\n",
    "X = dataset.drop('diagnosis', axis=1)\n",
    "X = scaler.fit_transform(X)\n",
    "y = dataset['diagnosis']"
   ]
  },
  {
   "cell_type": "code",
   "execution_count": 58,
   "id": "5aeb957a",
   "metadata": {},
   "outputs": [],
   "source": [
    "X_train, X_test, y_train, y_test = train_test_split(X, y, test_size=0.25, random_state=42)"
   ]
  },
  {
   "cell_type": "code",
   "execution_count": 59,
   "id": "50d12cfb",
   "metadata": {},
   "outputs": [],
   "source": [
    "model = DecisionTreeClassifier()"
   ]
  },
  {
   "cell_type": "code",
   "execution_count": 60,
   "id": "10cac1dc",
   "metadata": {},
   "outputs": [
    {
     "data": {
      "text/plain": [
       "DecisionTreeClassifier()"
      ]
     },
     "execution_count": 60,
     "metadata": {},
     "output_type": "execute_result"
    }
   ],
   "source": [
    "model.fit(X_train, y_train)"
   ]
  },
  {
   "cell_type": "code",
   "execution_count": 61,
   "id": "8c153046",
   "metadata": {},
   "outputs": [
    {
     "name": "stdout",
     "output_type": "stream",
     "text": [
      "Training score: 100.0\n",
      "Testing score: 93.00699300699301\n"
     ]
    }
   ],
   "source": [
    "train_score = model.score(X_train, y_train)*100\n",
    "print(\"Training score:\", train_score)\n",
    "\n",
    "test_score = model.score(X_test, y_test)*100\n",
    "print(\"Testing score:\", test_score)"
   ]
  },
  {
   "cell_type": "code",
   "execution_count": 62,
   "id": "7cfdac6d",
   "metadata": {},
   "outputs": [
    {
     "name": "stdout",
     "output_type": "stream",
     "text": [
      "Accuracy: 93.00699300699301\n"
     ]
    },
    {
     "data": {
      "image/png": "[encoded data removed]",
      "text/plain": [
       "<Figure size 640x480 with 2 Axes>"
      ]
     },
     "metadata": {},
     "output_type": "display_data"
    }
   ],
   "source": [
    "y_pred = model.predict(X_test)\n",
    "print('Accuracy:', accuracy_score(y_test, y_pred)*100)\n",
    "cm = confusion_matrix(y_test, y_pred)\n",
    "sns.heatmap(cm, annot=True, fmt='g')\n",
    "plt.xlabel('Predicted')\n",
    "plt.ylabel('True')\n",
    "plt.show()"
   ]
  },
  {
   "cell_type": "code",
   "execution_count": null,
   "id": "a9a93f39",
   "metadata": {},
   "outputs": [],
   "source": []
  }
 ],
 "metadata": {
  "kernelspec": {
   "display_name": "Python 3 (ipykernel)",
   "language": "python",
   "name": "python3"
  },
  "language_info": {
   "codemirror_mode": {
    "name": "ipython",
    "version": 3
   },
   "file_extension": ".py",
   "mimetype": "text/x-python",
   "name": "python",
   "nbconvert_exporter": "python",
   "pygments_lexer": "ipython3",
   "version": "3.9.13"
  }
 },
 "nbformat": 4,
 "nbformat_minor": 5
}
